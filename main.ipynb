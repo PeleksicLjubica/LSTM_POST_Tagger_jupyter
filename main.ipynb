{
 "cells": [
  {
   "cell_type": "raw",
   "metadata": {
    "collapsed": true
   },
   "source": [
    "===========================================\n",
    "=                                         =\n",
    "=      EXTRACTING DATA FROM CORPUS        =\n",
    "=                                         =\n",
    "==========================================="
   ]
  },
  {
   "cell_type": "code",
   "execution_count": 1,
   "metadata": {},
   "outputs": [],
   "source": [
    "#import of modules\n",
    "import pickle\n",
    "import numpy as np\n",
    "import os"
   ]
  },
  {
   "cell_type": "code",
   "execution_count": 2,
   "metadata": {},
   "outputs": [
    {
     "name": "stderr",
     "output_type": "stream",
     "text": [
      "/anaconda3/lib/python3.6/site-packages/h5py/__init__.py:36: FutureWarning: Conversion of the second argument of issubdtype from `float` to `np.floating` is deprecated. In future, it will be treated as `np.float64 == np.dtype(float).type`.\n",
      "  from ._conv import register_converters as _register_converters\n",
      "Using TensorFlow backend.\n"
     ]
    }
   ],
   "source": [
    "#import of modules for traning neural network\n",
    "from keras.preprocessing.sequence import pad_sequences\n",
    "from keras.utils.np_utils import to_categorical\n",
    "\n",
    "from keras.layers import Embedding\n",
    "from keras.layers import Dense, Input\n",
    "from keras.layers import TimeDistributed\n",
    "from keras.layers import LSTM, Bidirectional\n",
    "from keras.models import Model\n",
    "\n",
    "from sklearn.model_selection import train_test_split\n",
    "from sklearn.utils import shuffle"
   ]
  },
  {
   "cell_type": "code",
   "execution_count": 3,
   "metadata": {},
   "outputs": [],
   "source": [
    "# import models for using pos tagger \n",
    "from keras.models import load_model"
   ]
  },
  {
   "cell_type": "code",
   "execution_count": 4,
   "metadata": {},
   "outputs": [],
   "source": [
    "# number of files from brown corpus to be used\n",
    "n_sample_files = 500\n",
    "\n",
    "# glove file that will be used\n",
    "GLOVE_FILE = 'glove.6B.50d.txt'\n",
    "\n",
    "MAX_SEQUENCE_LENGTH = 100\n",
    "EMBEDDING_DIM = 50\n",
    "TEST_SPLIT = 0.3\n",
    "VALIDATION_SPLIT = 0.3\n",
    "BATCH_SIZE = 32\n",
    "\n",
    "MODEL_NAME_TRAIN = 'test_50_tt03'\n",
    "MODEL_NAME_EVALUATE = 'test_50_tt03'\n",
    "MODEL_NAME_TEST = 'test_50_tt03'\n",
    "\n",
    "# if train is true, new module will be created and saved with name MODEL_NAME_TRAIN\n",
    "TRAIN = True\n",
    "# if evaluate is true, model with name MODEL_NAME_EVALUATE will be evaluated\n",
    "EVALUATE = True\n",
    "\n",
    "# new sentence to be tested\n",
    "sentence_for_test = 'i want to dance with a dog'"
   ]
  },
  {
   "cell_type": "code",
   "execution_count": 6,
   "metadata": {},
   "outputs": [
    {
     "name": "stdout",
     "output_type": "stream",
     "text": [
      "TOTAL NO. OF FILES  500 \n",
      "\n",
      "RUNNING ON  500  FILES\n",
      "\n"
     ]
    }
   ],
   "source": [
    "#listing corpus dir and choosing number of files\n",
    "files = os.listdir('brown/')\n",
    "\n",
    "print('TOTAL NO. OF FILES ', len(files), '\\n')\n",
    "print('RUNNING ON ', n_sample_files, ' FILES\\n')"
   ]
  },
  {
   "cell_type": "code",
   "execution_count": 7,
   "metadata": {},
   "outputs": [
    {
     "name": "stdout",
     "output_type": "stream",
     "text": [
      "CORPUS SIZE 89830 \n",
      "\n"
     ]
    }
   ],
   "source": [
    "#reading files from corpus and creating list with contents\n",
    "raw_corpus = ''\n",
    "\n",
    "for file in files[0:n_sample_files]:\n",
    "    with open('brown/' + file) as f:\n",
    "        raw_corpus = raw_corpus + '\\n' + f.read()\n",
    "\n",
    "corpus = raw_corpus.split('\\n')\n",
    "print('CORPUS SIZE', len(corpus), '\\n')"
   ]
  },
  {
   "cell_type": "code",
   "execution_count": 8,
   "metadata": {},
   "outputs": [
    {
     "name": "stdout",
     "output_type": "stream",
     "text": [
      "He/pps arraigned/vbd the/at citizens/nns in/in language/nn of/in so/ql little/ap courtesy/nn that/cs they/ppss had/hvd to/to respond/vb with/in ,/, at/in the/at least/ap ,/, resentment/nn ./.\n"
     ]
    }
   ],
   "source": [
    "# initalizing variables\n",
    "X_train = []\n",
    "Y_train = []\n",
    "\n",
    "words = []\n",
    "tags = []\n",
    "\n",
    "with_slash = False\n",
    "n_omitted = 0\n",
    "\n",
    "print(corpus[70])"
   ]
  },
  {
   "cell_type": "code",
   "execution_count": 9,
   "metadata": {},
   "outputs": [],
   "source": [
    "# extract words and tags and separate them and remove omitted words\n",
    "for line in corpus:\n",
    "    # for every file with content\n",
    "    if(len(line)>0):\n",
    "        tempX = []\n",
    "        tempY = []\n",
    "        for word in line.split():\n",
    "            try:\n",
    "                # if word has '/', first part is word, second is tag\n",
    "                w, tag = word.split('/')\n",
    "            except:\n",
    "                # with_slash = True\n",
    "                # else word generaly containing \"/\" \n",
    "                n_omitted = n_omitted + 1\n",
    "                #print(word)\n",
    "                #print(line)\n",
    "                #print(\"\\n\")\n",
    "                break\n",
    "\n",
    "            w = w.lower()\n",
    "\n",
    "            # save word and tag\n",
    "            words.append(w)\n",
    "            tags.append(tag)\n",
    "            \n",
    "            # add each word and tag\n",
    "            tempX.append(w)\n",
    "            tempY.append(tag)\n",
    "        \n",
    "        # add words and tags from sentence\n",
    "        X_train.append(tempX)\n",
    "        Y_train.append(tempY)"
   ]
  },
  {
   "cell_type": "code",
   "execution_count": 10,
   "metadata": {},
   "outputs": [
    {
     "name": "stdout",
     "output_type": "stream",
     "text": [
      "OMITTED sentences:  182 \n",
      "\n",
      "TOTAL NO OF SAMPLES:  57341 \n",
      "\n",
      "sample X_train:  ['opinion', 'is', 'less', 'individual', 'or', 'runs', 'more', 'into', 'masses', ',', 'and', 'often', 'rules', 'with', 'a', 'rod', 'of', 'iron', \"''\", '.'] \n",
      "\n",
      "sample Y_train:  ['nn', 'bez', 'ql', 'jj', 'cc', 'vbz', 'rbr', 'in', 'nns', ',', 'cc', 'rb', 'vbz', 'in', 'at', 'nn', 'in', 'nn', \"''\", '.'] \n",
      "\n",
      "VOCAB SIZE:  49645\n",
      "TOTAL TAGS:  472\n"
     ]
    }
   ],
   "source": [
    "print('OMITTED sentences: ', n_omitted, '\\n')\n",
    "print('TOTAL NO OF SAMPLES: ', len(X_train), '\\n')\n",
    "\n",
    "print('sample X_train: ', X_train[42], '\\n')\n",
    "print('sample Y_train: ', Y_train[42], '\\n')\n",
    "\n",
    "# removing duplicates\n",
    "words = set(words)\n",
    "tags = set(tags)\n",
    "\n",
    "print('VOCAB SIZE: ', len(words))\n",
    "print('TOTAL TAGS: ', len(tags))\n",
    "\n",
    "# number of words and tags should be the same\n",
    "assert len(X_train) == len(Y_train)"
   ]
  },
  {
   "cell_type": "code",
   "execution_count": 11,
   "metadata": {},
   "outputs": [
    {
     "name": "stdout",
     "output_type": "stream",
     "text": [
      "sample X_train_numberised:  [21575, 24789, 45288, 18509, 20114, 8339, 48472, 39631, 32023, 33592, 49407, 148, 35321, 22749, 13293, 48370, 7379, 14074, 25908, 22161] \n",
      "\n",
      "sample Y_train_numberised:  [368, 178, 70, 434, 153, 97, 353, 300, 141, 162, 153, 310, 97, 300, 375, 368, 300, 368, 174, 270] \n",
      "\n"
     ]
    }
   ],
   "source": [
    "# enumerate words and tags in sets\n",
    "word2int = {}\n",
    "int2word = {}\n",
    "\n",
    "for i, word in enumerate(words):\n",
    "    word2int[word] = i+1\n",
    "    int2word[i+1] = word\n",
    "\n",
    "tag2int = {}\n",
    "int2tag = {}\n",
    "\n",
    "for i, tag in enumerate(tags):\n",
    "    tag2int[tag] = i+1\n",
    "    int2tag[i+1] = tag\n",
    "    \n",
    "X_train_numberised = []\n",
    "Y_train_numberised = []\n",
    "\n",
    "# save ordinal numbers of words and tags in sentences\n",
    "for sentence in X_train:\n",
    "    tempX = []\n",
    "    for word in sentence:\n",
    "        tempX.append(word2int[word])\n",
    "    X_train_numberised.append(tempX)\n",
    "    \n",
    "for tags in Y_train:\n",
    "    tempY = []\n",
    "    for tag in tags:\n",
    "        tempY.append(tag2int[tag])\n",
    "    Y_train_numberised.append(tempY)\n",
    "\n",
    "print('sample X_train_numberised: ', X_train_numberised[42], '\\n')\n",
    "print('sample Y_train_numberised: ', Y_train_numberised[42], '\\n')"
   ]
  },
  {
   "cell_type": "code",
   "execution_count": 12,
   "metadata": {},
   "outputs": [
    {
     "name": "stdout",
     "output_type": "stream",
     "text": [
      "Saved as pickle file\n"
     ]
    }
   ],
   "source": [
    "# create arrays from lists\n",
    "X_train_numberised = np.asarray(X_train_numberised)\n",
    "Y_train_numberised = np.asarray(Y_train_numberised)\n",
    "\n",
    "# collect data to save in picle files\n",
    "pickle_files = [X_train_numberised, Y_train_numberised, word2int, int2word, tag2int, int2tag]\n",
    "\n",
    "# create directory if it doesn't exist\n",
    "if not os.path.exists('PickledData/'):\n",
    "    print('MAKING DIRECTORY PickledData/ to save pickled glove file')\n",
    "    os.makedirs('PickledData/')\n",
    "\n",
    "# open file and write \n",
    "with open('PickledData/data.pkl', 'wb') as f:\n",
    "    pickle.dump(pickle_files, f)\n",
    "\n",
    "print('Saved as pickle file')"
   ]
  },
  {
   "cell_type": "raw",
   "metadata": {},
   "source": [
    "===========================================\n",
    "=                                         =\n",
    "=  CONVERT GLOVE VECTORS TO PICKLE FILE   =\n",
    "=                                         =\n",
    "==========================================="
   ]
  },
  {
   "cell_type": "code",
   "execution_count": 13,
   "metadata": {},
   "outputs": [
    {
     "name": "stdout",
     "output_type": "stream",
     "text": [
      "SUCESSFULLY SAVED Glove data as a pickle file in PickledData/\n"
     ]
    }
   ],
   "source": [
    "embeddings_index = {}\n",
    "\n",
    "glove_file = open(GLOVE_FILE, encoding=\"utf8\")\n",
    "\n",
    "for line in glove_file:\n",
    "    values = line.split()\n",
    "    word = values[0]\n",
    "    coefs = np.asarray(values[1:], dtype='float32')\n",
    "    embeddings_index[word] = coefs\n",
    "glove_file.close()\n",
    "\n",
    "# create directory if it doesn't exist\n",
    "if not os.path.exists('PickledData/'):\n",
    "    print('MAKING DIRECTORY PickledData/ to save pickled glove file')\n",
    "    os.makedirs('PickledData/')\n",
    "\n",
    "# saving dictionary to pickle file\n",
    "with open('PickledData/Glove.pkl', 'wb') as f:\n",
    "    pickle.dump(embeddings_index, f)\n",
    "\n",
    "print('SUCESSFULLY SAVED Glove data as a pickle file in PickledData/')"
   ]
  },
  {
   "cell_type": "raw",
   "metadata": {},
   "source": [
    "===========================================\n",
    "=                                         =\n",
    "=   TRAINING BIDIRECTIONAL LSTM NETWORK   =\n",
    "=                                         =\n",
    "==========================================="
   ]
  },
  {
   "cell_type": "code",
   "execution_count": 14,
   "metadata": {},
   "outputs": [
    {
     "name": "stdout",
     "output_type": "stream",
     "text": [
      "Total 400000 word vectors.\n"
     ]
    }
   ],
   "source": [
    "# reading data from Pickle files\n",
    "with open('PickledData/data.pkl', 'rb') as f:\n",
    "    X, y, word2int, int2word, tag2int, int2tag = pickle.load(f)\n",
    "    \n",
    "with open('PickledData/Glove.pkl', 'rb') as f:\n",
    "\tembeddings_index = pickle.load(f)\n",
    "\n",
    "print('Total %s word vectors.' % len(embeddings_index))"
   ]
  },
  {
   "cell_type": "code",
   "execution_count": 15,
   "metadata": {},
   "outputs": [],
   "source": [
    "# generator function for creating batches\n",
    "def generator(all_X, all_y, n_classes, batch_size=BATCH_SIZE):\n",
    "    num_samples = len(all_X)\n",
    "\n",
    "    while True:\n",
    "\n",
    "        for offset in range(0, num_samples, batch_size):\n",
    "            \n",
    "            X = all_X[offset:offset+batch_size]\n",
    "            y = all_y[offset:offset+batch_size]\n",
    "\n",
    "            y = to_categorical(y, num_classes=n_classes)\n",
    "            \n",
    "            # shuffle both lists in same order\n",
    "            yield shuffle(X, y)"
   ]
  },
  {
   "cell_type": "code",
   "execution_count": 16,
   "metadata": {},
   "outputs": [
    {
     "name": "stdout",
     "output_type": "stream",
     "text": [
      "TOTAL TAGS 472\n",
      "TOTAL WORDS 49645\n"
     ]
    }
   ],
   "source": [
    "# number of tags available\n",
    "n_tags = len(tag2int)\n",
    "\n",
    "#print(X[50:53])\n",
    "\n",
    "# TODO: pad_sequences ne radi nista ovde?\n",
    "X = pad_sequences(X, maxlen=MAX_SEQUENCE_LENGTH)\n",
    "y = pad_sequences(y, maxlen=MAX_SEQUENCE_LENGTH)\n",
    "\n",
    "#print(X[50:53])\n",
    "\n",
    "# y = to_categorical(y, num_classes=len(tag2int) + 1)\n",
    "\n",
    "print('TOTAL TAGS', n_tags)\n",
    "print('TOTAL WORDS', len(word2int))\n",
    "\n",
    "# shuffle the data in the same order for both arrays\n",
    "X, y = shuffle(X, y)"
   ]
  },
  {
   "cell_type": "code",
   "execution_count": 17,
   "metadata": {},
   "outputs": [
    {
     "name": "stdout",
     "output_type": "stream",
     "text": [
      "We have 28096 TRAINING samples\n",
      "We have 12042 VALIDATION samples\n",
      "We have 17203 TEST samples\n"
     ]
    }
   ],
   "source": [
    "# split data into train and test\n",
    "X_train, X_test, y_train, y_test = train_test_split(X, y, test_size=TEST_SPLIT,random_state=42)\n",
    "\n",
    "# split training data into train and validation\n",
    "X_train, X_val, y_train, y_val = train_test_split(X_train, y_train, test_size=VALIDATION_SPLIT, random_state=1)\n",
    "\n",
    "n_train_samples = X_train.shape[0]\n",
    "n_val_samples = X_val.shape[0]\n",
    "n_test_samples = X_test.shape[0]\n",
    "\n",
    "print('We have %d TRAINING samples' % n_train_samples)\n",
    "print('We have %d VALIDATION samples' % n_val_samples)\n",
    "print('We have %d TEST samples' % n_test_samples)\n",
    "\n",
    "# make generators for training and validation sets\n",
    "train_generator = generator(all_X=X_train, all_y=y_train, n_classes=n_tags + 1)\n",
    "validation_generator = generator(all_X=X_val, all_y=y_val, n_classes=n_tags + 1)"
   ]
  },
  {
   "cell_type": "code",
   "execution_count": 18,
   "metadata": {},
   "outputs": [
    {
     "name": "stdout",
     "output_type": "stream",
     "text": [
      "(49646, 50)\n",
      "Embedding matrix shape (49646, 50)\n",
      "X_train shape (28096, 100)\n"
     ]
    }
   ],
   "source": [
    "# + 1 to include the unkown word\n",
    "embedding_matrix = np.random.random((len(word2int) + 1, EMBEDDING_DIM))\n",
    "\n",
    "print(embedding_matrix.shape)\n",
    "\n",
    "for word, i in word2int.items():\n",
    "    # taking vector of embeddings index for specific word from glove file\n",
    "    embedding_vector = embeddings_index.get(word)\n",
    "    \n",
    "    if embedding_vector is not None:\n",
    "        # words not found in embeddings_index will remain unchanged and thus will be random.\n",
    "        embedding_matrix[i] = embedding_vector\n",
    "\n",
    "print('Embedding matrix shape', embedding_matrix.shape)\n",
    "print('X_train shape', X_train.shape)"
   ]
  },
  {
   "cell_type": "code",
   "execution_count": 18,
   "metadata": {},
   "outputs": [
    {
     "name": "stdout",
     "output_type": "stream",
     "text": [
      "model fitting - Bidirectional LSTM\n",
      "_________________________________________________________________\n",
      "Layer (type)                 Output Shape              Param #   \n",
      "=================================================================\n",
      "input_1 (InputLayer)         (None, 100)               0         \n",
      "_________________________________________________________________\n",
      "embedding_1 (Embedding)      (None, 100, 50)           2482300   \n",
      "_________________________________________________________________\n",
      "bidirectional_1 (Bidirection (None, 100, 128)          58880     \n",
      "_________________________________________________________________\n",
      "time_distributed_1 (TimeDist (None, 100, 473)          61017     \n",
      "=================================================================\n",
      "Total params: 2,602,197\n",
      "Trainable params: 2,602,197\n",
      "Non-trainable params: 0\n",
      "_________________________________________________________________\n",
      "Epoch 1/2\n",
      "878/878 [==============================] - 145s 165ms/step - loss: 0.3100 - acc: 0.9362 - val_loss: 0.0943 - val_acc: 0.9754\n",
      "Epoch 2/2\n",
      "878/878 [==============================] - 144s 164ms/step - loss: 0.0746 - acc: 0.9800 - val_loss: 0.0652 - val_acc: 0.9824\n"
     ]
    }
   ],
   "source": [
    "if TRAIN:\n",
    "    embedding_layer = Embedding(len(word2int) + 1,\n",
    "                                EMBEDDING_DIM,\n",
    "                                weights=[embedding_matrix],\n",
    "                                input_length=MAX_SEQUENCE_LENGTH,\n",
    "                                trainable=True)\n",
    "    sequence_input = Input(shape=(MAX_SEQUENCE_LENGTH,), dtype='int32')\n",
    "    embedded_sequences = embedding_layer(sequence_input)\n",
    "\n",
    "    l_lstm = Bidirectional(LSTM(64, return_sequences=True))(embedded_sequences)\n",
    "    preds = TimeDistributed(Dense(n_tags + 1, activation='softmax'))(l_lstm)\n",
    "    model = Model(sequence_input, preds)\n",
    "\n",
    "    model.compile(loss='categorical_crossentropy',\n",
    "                  optimizer='rmsprop',\n",
    "                  metrics=['acc'])\n",
    "\n",
    "    print(\"model fitting - Bidirectional LSTM\")\n",
    "    model.summary()\n",
    "\n",
    "    model.fit_generator(train_generator, \n",
    "                         steps_per_epoch=n_train_samples//BATCH_SIZE,\n",
    "                         validation_data=validation_generator,\n",
    "                         validation_steps=n_val_samples//BATCH_SIZE,\n",
    "                         epochs=2,\n",
    "                         verbose=1,\n",
    "                         workers=4)"
   ]
  },
  {
   "cell_type": "code",
   "execution_count": 22,
   "metadata": {},
   "outputs": [
    {
     "name": "stdout",
     "output_type": "stream",
     "text": [
      "MODEL SAVED in Models/ as test_50_tt03\n"
     ]
    }
   ],
   "source": [
    "if TRAIN:\n",
    "    # create folder is needed and save model that is generated   \n",
    "    if not os.path.exists('Models/'):\n",
    "        print('MAKING DIRECTORY Models/ to save model file')\n",
    "        os.makedirs('Models/')\n",
    "    \n",
    "    model.save('Models/' + MODEL_NAME_TRAIN)\n",
    "    print('MODEL SAVED in Models/ as ' + MODEL_NAME_TRAIN)    "
   ]
  },
  {
   "cell_type": "code",
   "execution_count": 19,
   "metadata": {
    "collapsed": true
   },
   "outputs": [
    {
     "name": "stdout",
     "output_type": "stream",
     "text": [
      "TEST LOSS 2.264156 \n",
      "TEST ACCURACY: 0.799294\n",
      "MAKING DIRECTORY Statistic/ to save evaluation data\n"
     ]
    },
    {
     "ename": "TypeError",
     "evalue": "write() argument must be str, not numpy.float64",
     "output_type": "error",
     "traceback": [
      "\u001b[0;31m---------------------------------------------------------------------------\u001b[0m",
      "\u001b[0;31mTypeError\u001b[0m                                 Traceback (most recent call last)",
      "\u001b[0;32m<ipython-input-19-c4a1eb314bc2>\u001b[0m in \u001b[0;36m<module>\u001b[0;34m()\u001b[0m\n\u001b[1;32m     18\u001b[0m         \u001b[0mfile\u001b[0m \u001b[0;34m=\u001b[0m \u001b[0mopen\u001b[0m\u001b[0;34m(\u001b[0m \u001b[0mMODEL_NAME_EVALUATE\u001b[0m \u001b[0;34m+\u001b[0m \u001b[0;34m\".txt\"\u001b[0m\u001b[0;34m,\u001b[0m\u001b[0;34m\"w\"\u001b[0m\u001b[0;34m)\u001b[0m\u001b[0;34m\u001b[0m\u001b[0m\n\u001b[1;32m     19\u001b[0m         \u001b[0mfile\u001b[0m\u001b[0;34m.\u001b[0m\u001b[0mwrite\u001b[0m\u001b[0;34m(\u001b[0m\u001b[0;34m\"TEST LOSS\"\u001b[0m\u001b[0;34m)\u001b[0m\u001b[0;34m\u001b[0m\u001b[0m\n\u001b[0;32m---> 20\u001b[0;31m         \u001b[0mfile\u001b[0m\u001b[0;34m.\u001b[0m\u001b[0mwrite\u001b[0m\u001b[0;34m(\u001b[0m\u001b[0mtest_results\u001b[0m\u001b[0;34m[\u001b[0m\u001b[0;36m0\u001b[0m\u001b[0;34m]\u001b[0m\u001b[0;34m)\u001b[0m\u001b[0;34m\u001b[0m\u001b[0m\n\u001b[0m\u001b[1;32m     21\u001b[0m         \u001b[0mfile\u001b[0m\u001b[0;34m.\u001b[0m\u001b[0mwrite\u001b[0m\u001b[0;34m(\u001b[0m\u001b[0;34m\"TEST LOSS\"\u001b[0m\u001b[0;34m)\u001b[0m\u001b[0;34m\u001b[0m\u001b[0m\n\u001b[1;32m     22\u001b[0m         \u001b[0mfile\u001b[0m\u001b[0;34m.\u001b[0m\u001b[0mwrite\u001b[0m\u001b[0;34m(\u001b[0m\u001b[0mtest_results\u001b[0m\u001b[0;34m[\u001b[0m\u001b[0;36m1\u001b[0m\u001b[0;34m]\u001b[0m\u001b[0;34m)\u001b[0m\u001b[0;34m\u001b[0m\u001b[0m\n",
      "\u001b[0;31mTypeError\u001b[0m: write() argument must be str, not numpy.float64"
     ]
    }
   ],
   "source": [
    "if EVALUATE:\n",
    "\n",
    "    #import model that is previously generated\n",
    "    from keras.models import load_model\n",
    "    model = load_model('Models/' + MODEL_NAME_EVALUATE)\n",
    "    \n",
    "    y_test = to_categorical(y_test, num_classes=n_tags+1)\n",
    "    test_results = model.evaluate(X_test, y_test, verbose=0)\n",
    "    print('TEST LOSS %f \\nTEST ACCURACY: %f' % (test_results[0], test_results[1]))"
   ]
  },
  {
   "cell_type": "code",
   "execution_count": 33,
   "metadata": {},
   "outputs": [
    {
     "name": "stdout",
     "output_type": "stream",
     "text": [
      "_________________________________________________________________\n",
      "Layer (type)                 Output Shape              Param #   \n",
      "=================================================================\n",
      "input_1 (InputLayer)         (None, 100)               0         \n",
      "_________________________________________________________________\n",
      "embedding_1 (Embedding)      (None, 100, 50)           2482300   \n",
      "_________________________________________________________________\n",
      "bidirectional_1 (Bidirection (None, 100, 128)          58880     \n",
      "_________________________________________________________________\n",
      "time_distributed_1 (TimeDist (None, 100, 473)          61017     \n",
      "=================================================================\n",
      "Total params: 2,602,197\n",
      "Trainable params: 2,602,197\n",
      "Non-trainable params: 0\n",
      "_________________________________________________________________\n"
     ]
    }
   ],
   "source": [
    "model.summary()\n",
    "    \n",
    "if not os.path.exists('Statistic/'):\n",
    "    print('MAKING DIRECTORY Statistic/ to save evaluation data')\n",
    "    os.makedirs('Statistic/')\n",
    "\n",
    "if not os.path.exists('Statistic/' + MODEL_NAME_EVALUATE):\n",
    "    file = open('Statistic/' + MODEL_NAME_EVALUATE + \".txt\",\"w\")\n",
    "    file.write(\"MODEL NAME: \" + MODEL_NAME_EVALUATE + '\\n')\n",
    "    file.write(\"TEST LOSS:\")\n",
    "    file.write(str(test_results[0]) + '\\n')\n",
    "    file.write(\"TEST ACCURACY:\")\n",
    "    file.write(str(test_results[1]) + '\\n')\n",
    "\n",
    "    file.close() "
   ]
  },
  {
   "cell_type": "raw",
   "metadata": {},
   "source": [
    "===========================================\n",
    "=                                         =\n",
    "=    USING POS TAGGER ON NEW SENTENCES    =\n",
    "=                                         =\n",
    "==========================================="
   ]
  },
  {
   "cell_type": "code",
   "execution_count": 24,
   "metadata": {},
   "outputs": [],
   "source": [
    "# loading Pickle files and removing train data\n",
    "with open('PickledData/data.pkl', 'rb') as f:\n",
    "    X_train, Y_train, word2int, int2word, tag2int, int2tag = pickle.load(f)\n",
    "\n",
    "    del X_train\n",
    "    del Y_train"
   ]
  },
  {
   "cell_type": "code",
   "execution_count": 26,
   "metadata": {},
   "outputs": [
    {
     "name": "stdout",
     "output_type": "stream",
     "text": [
      "The sentence is  i want to dance with a dog\n",
      "The tokenized sentence is  [[12019 19534 23289 36754 41225 49137 16068]]\n",
      "The padded tokenized sentence is  [[    0     0     0     0     0     0     0     0     0     0     0     0\n",
      "      0     0     0     0     0     0     0     0     0     0     0     0\n",
      "      0     0     0     0     0     0     0     0     0     0     0     0\n",
      "      0     0     0     0     0     0     0     0     0     0     0     0\n",
      "      0     0     0     0     0     0     0     0     0     0     0     0\n",
      "      0     0     0     0     0     0     0     0     0     0     0     0\n",
      "      0     0     0     0     0     0     0     0     0     0     0     0\n",
      "      0     0     0     0     0     0     0     0     0 12019 19534 23289\n",
      "  36754 41225 49137 16068]]\n",
      "(1, 100, 473)\n"
     ]
    }
   ],
   "source": [
    "if TEST:\n",
    "\n",
    "    # split sentence to be tested\n",
    "    sentence_split = sentence_for_test.split()\n",
    "    \n",
    "    tokenized_sentence = []\n",
    "\n",
    "    for word in sentence_split:\n",
    "        tokenized_sentence.append(word2int[word])\n",
    "\n",
    "    tokenized_sentence = np.asarray([tokenized_sentence])\n",
    "    #keras\n",
    "    padded_tokenized_sentence = pad_sequences(tokenized_sentence, maxlen=100)\n",
    "\n",
    "    print('The sentence is ', sentence_for_test)\n",
    "    print('The tokenized sentence is ',tokenized_sentence)\n",
    "    print('The padded tokenized sentence is ', padded_tokenized_sentence)\n",
    "\n",
    "    model = load_model('Models/' + MODEL_NAME_TEST)\n",
    "\n",
    "    prediction = model.predict(padded_tokenized_sentence)\n",
    "\n",
    "    print(prediction.shape)\n",
    "\n",
    "    for i, pred in enumerate(prediction[0]):\n",
    "        try:\n",
    "            print(sentence[i], ' : ', int2tag[np.argmax(pred)])\n",
    "        except:\n",
    "            pass\n",
    "            # print('NA')\n"
   ]
  },
  {
   "cell_type": "code",
   "execution_count": null,
   "metadata": {},
   "outputs": [],
   "source": []
  },
  {
   "cell_type": "code",
   "execution_count": null,
   "metadata": {},
   "outputs": [],
   "source": []
  }
 ],
 "metadata": {
  "kernelspec": {
   "display_name": "Python 3",
   "language": "python",
   "name": "python3"
  },
  "language_info": {
   "codemirror_mode": {
    "name": "ipython",
    "version": 3
   },
   "file_extension": ".py",
   "mimetype": "text/x-python",
   "name": "python",
   "nbconvert_exporter": "python",
   "pygments_lexer": "ipython3",
   "version": "3.6.5"
  }
 },
 "nbformat": 4,
 "nbformat_minor": 2
}
